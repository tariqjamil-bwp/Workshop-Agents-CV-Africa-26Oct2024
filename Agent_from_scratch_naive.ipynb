{
 "cells": [
  {
   "cell_type": "markdown",
   "metadata": {},
   "source": [
    "## AGENTS from very ground up \n",
    "\n",
    "\n",
    "(Code for Computer Vision Africa - Workshop)\n",
    "\n",
    "Author: Tariq Jamil\n",
    "\n",
    "(TensorDot Solutions - www.tensordotsolutions.com)\n",
    "\n",
    "Linkedin: https://www.linkedin.com/in/tj-yazman/\n",
    "\n",
    "Dated: 26. October, 2024"
   ]
  },
  {
   "cell_type": "code",
   "execution_count": 28,
   "metadata": {},
   "outputs": [],
   "source": [
    "from IPython.display import Image, display\n",
    "import re\n",
    "\n",
    "from Tools_r3 import calculate, currency_converter, get_news, ddg_search, get_weather\n",
    "from Tools_r3 import cprint\n",
    "from jinja2 import Template\n",
    "\n",
    "#from Models_r1 import GroqChatLLM\n",
    "#llm = GroqChatLLM(model='llama3-70b-8192')\n",
    "#def call_llm1(message):\n",
    "#    resp = llm.generate_response(messages=message)\n",
    "#    return resp"
   ]
  },
  {
   "cell_type": "code",
   "execution_count": 29,
   "metadata": {},
   "outputs": [],
   "source": [
    "import os\n",
    "import openai\n",
    "from groq import Groq\n",
    "\n",
    "client = openai.OpenAI(\n",
    "    base_url=\"https://api.groq.com/openai/v1\",\n",
    "    api_key=os.environ.get(\"GROQ_API_KEY\"),\n",
    ")\n",
    "\n",
    "def call_llm(message, client=client):\n",
    "\n",
    "    if not isinstance(message, list): # in case formatted message is not given\n",
    "        messages=[\n",
    "            # Set an optional system message. This sets the behavior of the\n",
    "            {\"role\": \"system\", \"content\": \"you are a helpful assistant.\"},\n",
    "            # Set a user message for the assistant to respond to.\n",
    "            {\"role\": \"user\", \"content\": message}\n",
    "            ]\n",
    "    else:\n",
    "        messages=message\n",
    "    \n",
    "    chat_completion = client.chat.completions.create(\n",
    "        messages=messages,            \n",
    "        model=\"llama-3.2-90b-text-preview\",\n",
    "        #model='llama3-70b-8192',\n",
    "        temperature=0,\n",
    "        max_tokens=128,\n",
    "        stream=False,\n",
    "    )\n",
    "\n",
    "    return chat_completion.choices[0].message.content"
   ]
  },
  {
   "cell_type": "markdown",
   "metadata": {},
   "source": [
    "### The system prompt can be broken down into 3 portions for understanfing sake.\n",
    "1. System prompt -- persona, system_message (ReAct methodology)\n",
    "2. Tools Ingestion (Tools description, and parameters they take)\n",
    "3. Example to boost LLM chain of thought"
   ]
  },
  {
   "cell_type": "markdown",
   "metadata": {},
   "source": [
    "#### System prompt"
   ]
  },
  {
   "cell_type": "code",
   "execution_count": 30,
   "metadata": {},
   "outputs": [],
   "source": [
    "name = \"Assistant\"\n",
    "role = \"A general purpose assistant capable of answering user questions\"\n",
    "\n",
    "system_prompt_template = \"\"\"\n",
    "You are an intelligent '{{ name }}' and you act as '{{ role }}':\n",
    "\n",
    "{% if tools %}\n",
    "Actions you can use:\n",
    "{% for tool_name, tool_func in tools.items() %}\n",
    "{{ tool_name }}:\n",
    "Usage: {{ tool_func.__doc__.strip() }}\n",
    "{% endfor %}\n",
    "{% endif %}\n",
    "\n",
    "You run in a loop of Thought, Action, PAUSE, Observation. \n",
    "At the end of the loop, you output an Answer.\n",
    "\n",
    "Use Thought to reason about the question you have been asked. Break up long questions as necessary. \n",
    "Use Action to run one action at a time available to you, then return PAUSE. \n",
    "Observation will be the result of running that action. \n",
    "Reflect on the observation to refine your thoughts for the next iteration.\n",
    "\n",
    "{% if cot_example %}\n",
    "Chain of Thought Example(s): \n",
    "'''{{ cot_example }}'''\n",
    "{% endif %}\n",
    "\n",
    "GO!\n",
    "\"\"\""
   ]
  },
  {
   "cell_type": "markdown",
   "metadata": {},
   "source": [
    "#### Chain of Thought Example"
   ]
  },
  {
   "cell_type": "code",
   "execution_count": 31,
   "metadata": {},
   "outputs": [],
   "source": [
    "example =\\\n",
    "\"\"\"\n",
    "Question: What is the weather in New York?\n",
    "Thought: I should use get_weather to find the current weather in New York.\n",
    "Action: get_weather: \"New York\"\n",
    "PAUSE\n",
    "\n",
    "You will be called again with this:\n",
    "\n",
    "Observation: The current weather in New York is 75°F with clear skies.\n",
    "\n",
    "You then output:\n",
    "Answer: The current weather in New York is 75°F with clear skies.\n",
    "\"\"\""
   ]
  },
  {
   "cell_type": "markdown",
   "metadata": {},
   "source": [
    "### Testing system prompt"
   ]
  },
  {
   "cell_type": "code",
   "execution_count": 32,
   "metadata": {},
   "outputs": [
    {
     "name": "stdout",
     "output_type": "stream",
     "text": [
      "\n",
      "You are an intelligent 'Assistant' and you act as 'A general purpose assistant capable of answering user questions':\n",
      "\n",
      "\n",
      "Actions you can use:\n",
      "\n",
      "ddg_search:\n",
      "Usage: Searches the web for a query using DuckDuckGo and returns the results.\n",
      "\n",
      "get_news:\n",
      "Usage: Retrieves the latest news based on a specified topic using DuckDuckGo.\n",
      "\n",
      "get_weather:\n",
      "Usage: Retrieves the current weather for a specified location.\n",
      "\n",
      "calculate:\n",
      "Usage: Evaluates a mathematical expression using sympy and returns the result as a float.\n",
      "\n",
      "\n",
      "\n",
      "You run in a loop of Thought, Action, PAUSE, Observation. \n",
      "At the end of the loop, you output an Answer.\n",
      "\n",
      "Use Thought to reason about the question you have been asked. Break up long questions as necessary. \n",
      "Use Action to run one action at a time available to you, then return PAUSE. \n",
      "Observation will be the result of running that action. \n",
      "Reflect on the observation to refine your thoughts for the next iteration.\n",
      "\n",
      "\n",
      "Chain of Thought Example(s): \n",
      "'''\n",
      "Question: What is the weather in New York?\n",
      "Thought: I should use get_weather to find the current weather in New York.\n",
      "Action: get_weather: \"New York\"\n",
      "PAUSE\n",
      "\n",
      "You will be called again with this:\n",
      "\n",
      "Observation: The current weather in New York is 75°F with clear skies.\n",
      "\n",
      "You then output:\n",
      "Answer: The current weather in New York is 75°F with clear skies.\n",
      "'''\n",
      "\n",
      "\n",
      "GO!\n"
     ]
    }
   ],
   "source": [
    "tools = {'ddg_search': ddg_search, 'get_news': get_news, 'get_weather': get_weather, \"calculate\": calculate}\n",
    "system_prompt = Template(system_prompt_template).render(name=name, role=role, tools=tools, cot_example=example)\n",
    "\n",
    "print(system_prompt)"
   ]
  },
  {
   "cell_type": "markdown",
   "metadata": {},
   "source": [
    "#### For Agents we need to maintain a state of messages from begining till last until answer is evaluated.\n",
    "\n",
    "The Chat Models has a dictionary style prompt, have 'role' keys and 'content' keys."
   ]
  },
  {
   "cell_type": "markdown",
   "metadata": {},
   "source": [
    "We need to maintain state between Agent cycles of Thought, Action, Pause, Observation "
   ]
  },
  {
   "cell_type": "markdown",
   "metadata": {},
   "source": [
    "### Agent Loop"
   ]
  },
  {
   "cell_type": "code",
   "execution_count": 33,
   "metadata": {},
   "outputs": [
    {
     "name": "stdout",
     "output_type": "stream",
     "text": [
      "The capital of Nigeria is Abuja. \n",
      "\n",
      "Three major cities in Nigeria are:\n",
      "\n",
      "1. Lagos: It's the largest city in Nigeria and a major economic hub.\n",
      "2. Kano: Located in the north, Kano is a significant commercial center and a major city in Nigeria.\n",
      "3. Port Harcourt: Located in the south, Port Harcourt is a major city and a significant oil-producing center in Nigeria.\n"
     ]
    }
   ],
   "source": [
    "# testing\n",
    "resp = call_llm('what is capital of Nigeria and 3 major cities?')\n",
    "print(resp)"
   ]
  },
  {
   "cell_type": "code",
   "execution_count": 34,
   "metadata": {},
   "outputs": [],
   "source": [
    "def summarize_observation(observation):\n",
    "    prompt = \"\"\"\n",
    "    Summarize the following observation:\n",
    "    {{ observation }}\n",
    "    \"\"\"\n",
    "    prompt = Template(prompt).render(observation=observation)\n",
    "    return call_llm(prompt)\n"
   ]
  },
  {
   "cell_type": "markdown",
   "metadata": {},
   "source": [
    "### STATE & Other Initializations"
   ]
  },
  {
   "cell_type": "code",
   "execution_count": 35,
   "metadata": {},
   "outputs": [],
   "source": [
    "# initializations\n",
    "max_iterations = 20\n",
    "\n",
    "# Initializing state\n",
    "state = [{\"role\": \"system\", \"content\": system_prompt}]\n",
    "\n",
    "#user_query = \"What are top 5 news from capital of Nigeria. Also sum the numbers in '245323'\"\n",
    "user_query = \"What is the current temperature (celius) at capital of Nigeria.\"\n",
    "user_query1 = \"What is rain condition Lagos, with time and date.\"\n",
    "user_query2 = \"What is capital of Nigeria and 3 major cities?, in bullets form\"\n",
    "user_query3 = \"what is todays top 4 news items in Nigeria, in bullets form\"\n",
    "user_query4 = \"What are 3 best supermarkets in Abuja, in bullets form\""
   ]
  },
  {
   "cell_type": "code",
   "execution_count": 36,
   "metadata": {},
   "outputs": [
    {
     "name": "stdout",
     "output_type": "stream",
     "text": [
      "\u001b[0m\u001b[0m\n",
      "\u001b[0mAgent <iter:0>:\u001b[0m\n",
      "\u001b[36mThought: To answer this question, I need to break it down into three parts. \u001b[0m\n",
      "\u001b[36m1. Find the current temperature in Celsius at the capital of Nigeria (Abuja).\u001b[0m\n",
      "\u001b[36m2. Find the rain condition in Lagos with time and date.\u001b[0m\n",
      "\u001b[36m3. Calculate the mathematical expression (square root of 3) * (exp of 4) + 5.\u001b[0m\n",
      "\u001b[36m\u001b[0m\n",
      "\u001b[33mAction: get_weather: \"Abuja\"\u001b[0m\n",
      "\u001b[33mPAUSE\u001b[0m\n",
      "\u001b[33m\u001b[0m\n",
      "\u001b[33m\u001b[0m\n",
      "-- Running get_weather with parameters: Abuja --\n",
      " -> get_weather Tool Called --\n",
      "\n",
      "*\n",
      "***\n",
      "\u001b[32mObservation: {\"location\": {\"name\": \"Abuja\", \"region\": \"Federal Capital Territory\", \"country\": \"Nigeria\", \"lat\": 9.1758, \"lon\": 7.1808, \"tz_id\": \"Africa/Lagos\", \"localtime_epoch\": 1729947042, \"localtime\": \"2024-10-26 13:50\"}, \"current\": {\"last_updated_epoch\": 1729946700, \"last_updated\": \"2024-10-26 13:45\", \"temp_c\": 32.2, \"temp_f\": 90.0, \"is_day\": 1, \"condition\": {\"text\": \"Partly cloudy\", \"icon\": \"//cdn.weatherapi.com/weather/64x64/day/116.png\", \"code\": 1003}, \"wind_mph\": 3.1, \"wind_kph\": 5.0, \"wind_degree\": 246, \"wind_dir\": \"WSW\", \"pressure_mb\": 1012.0, \"pressure_in\": 29.88, \"precip_mm\": 0.0, \"precip_in\": 0.0, \"humidity\": 63, \"cloud\": 50, \"feelslike_c\": 36.5, \"feelslike_f\": 97.6, \"windchill_c\": 31.2, \"windchill_f\": 88.2, \"heatindex_c\": 34.5, \"heatindex_f\": 94.1, \"dewpoint_c\": 21.1, \"dewpoint_f\": 70.1, \"vis_km\": 10.0, \"vis_miles\": 6.0, \"uv\": 8.0, \"gust_mph\": 3.6, \"gust_kph\": 5.8, \"air_quality\": {\"co\": 673.4, \"no2\": 2.035, \"o3\": 116.0, \"so2\": 1.665, \"pm2_5\": 47.36, \"pm10\": 111.925, \"us-epa-index\": 3, \"gb-defra-index\": 5}}}\u001b[0m\n",
      "\u001b[0m\u001b[0m\n",
      "\u001b[0mAgent <iter:1>:\u001b[0m\n",
      "\u001b[36mThought: Now that I have the temperature in Abuja, I need to find the rain condition in Lagos.\u001b[0m\n",
      "\u001b[36m\u001b[0m\n",
      "\u001b[33mAction: get_weather: \"Lagos\"\u001b[0m\n",
      "\u001b[33mPAUSE\u001b[0m\n",
      "\u001b[33m\u001b[0m\n",
      "\u001b[33m\u001b[0m\n",
      "-- Running get_weather with parameters: Lagos --\n",
      " -> get_weather Tool Called --\n",
      "\n",
      "*\n",
      "***\n",
      "\u001b[32mObservation: {\"location\": {\"name\": \"Lagos\", \"region\": \"Lagos\", \"country\": \"Nigeria\", \"lat\": 6.4531, \"lon\": 3.3958, \"tz_id\": \"Africa/Lagos\", \"localtime_epoch\": 1729947043, \"localtime\": \"2024-10-26 13:50\"}, \"current\": {\"last_updated_epoch\": 1729946700, \"last_updated\": \"2024-10-26 13:45\", \"temp_c\": 28.3, \"temp_f\": 83.0, \"is_day\": 1, \"condition\": {\"text\": \"Patchy rain nearby\", \"icon\": \"//cdn.weatherapi.com/weather/64x64/day/176.png\", \"code\": 1063}, \"wind_mph\": 12.3, \"wind_kph\": 19.8, \"wind_degree\": 210, \"wind_dir\": \"SSW\", \"pressure_mb\": 1011.0, \"pressure_in\": 29.86, \"precip_mm\": 0.24, \"precip_in\": 0.01, \"humidity\": 75, \"cloud\": 84, \"feelslike_c\": 32.3, \"feelslike_f\": 90.1, \"windchill_c\": 28.3, \"windchill_f\": 83.0, \"heatindex_c\": 32.3, \"heatindex_f\": 90.1, \"dewpoint_c\": 23.5, \"dewpoint_f\": 74.4, \"vis_km\": 9.0, \"vis_miles\": 5.0, \"uv\": 6.0, \"gust_mph\": 15.3, \"gust_kph\": 24.7, \"air_quality\": {\"co\": 532.8, \"no2\": 3.7, \"o3\": 98.0, \"so2\": 2.035, \"pm2_5\": 25.345, \"pm10\": 49.58, \"us-epa-index\": 2, \"gb-defra-index\": 3}}}\u001b[0m\n",
      "\u001b[0m\u001b[0m\n",
      "\u001b[0mAgent <iter:2>:\u001b[0m\n",
      "\u001b[36mThought: Now that I have all the required information, I can provide the answer in bullets.\u001b[0m\n",
      "\u001b[36m\u001b[0m\n",
      "\u001b[34mAnswer:\u001b[0m\n",
      "\u001b[34m• The current temperature in Abuja, the capital of Nigeria, is 32.2°C.\u001b[0m\n",
      "\u001b[34m• The rain condition in Lagos is patchy rain nearby, with a temperature of 28.3°C, and the time and date is 2024-10-26 13:50.\u001b[0m\n",
      "\u001b[34m• The result of the mathematical expression (square root of 3) * (exp of 4) + 5 is 59.237.\u001b[0m\n"
     ]
    }
   ],
   "source": [
    "# Initializing state with user query\n",
    "next_prompt = user_query+user_query1+\"calculate the (square root of 3) multiplied with (exp of 4) and add 5. Give reply in bullets\"\n",
    "\n",
    "# Iterating through the loop\n",
    "for i in range(max_iterations):\n",
    "    cprint(f'\\nAgent <iter:{i}>:\\n')\n",
    "    \n",
    "    state.append({'role': 'user', 'content': next_prompt}) # update state\n",
    "    result = call_llm(state)\n",
    "    \n",
    "    state.append({'role': 'assistant', 'content': result}) # update state\n",
    "    \n",
    "    if \"Action\" in result and \"PAUSE\" in result and \"Observation\" in result:\n",
    "        result = result.split(\"Observation:\")[0]\n",
    "        \n",
    "    cprint(f'{result}\\n')\n",
    "    \n",
    "    # Original regex pattern to capture action commands\n",
    "    action_re = re.compile(r\"Action:\\s*(\\w+):\\s*\\\"([^\\\"]+)\\\"\")\n",
    "\n",
    "    match = action_re.search(result)  # Finding the first occurrence of an action\n",
    "    if match:\n",
    "        # Extracting tool name and parameters\n",
    "        tool_name, parameters = match.groups()\n",
    "        print(f\"-- Running {tool_name} with parameters: {parameters} --\")\n",
    "\n",
    "        # Checking if the tool exists\n",
    "        if tool_name in tools:\n",
    "            try:\n",
    "                # Calling the tool with the parameter string\n",
    "                result_tool = tools[tool_name](parameters)\n",
    "                observation = f\"Observation: {result_tool}\"\n",
    "                cprint(observation)\n",
    "            except Exception as e:\n",
    "                observation = f\"Observation: Failed to execute tool '{tool_name}'. Error: {str(e)}\"\n",
    "        else:\n",
    "            observation = f\"Observation: Desired Tool '{tool_name}' not found. Available tools\"\n",
    "    else:\n",
    "        if \"Answer\" in result:\n",
    "            break  # Exiting the loop if \"Answer\" is in the response\n",
    "        else:\n",
    "            observation = summarize_observation(result)\n",
    "\n",
    "    next_prompt = observation"
   ]
  }
 ],
 "metadata": {
  "kernelspec": {
   "display_name": "Python 3",
   "language": "python",
   "name": "python3"
  },
  "language_info": {
   "codemirror_mode": {
    "name": "ipython",
    "version": 3
   },
   "file_extension": ".py",
   "mimetype": "text/x-python",
   "name": "python",
   "nbconvert_exporter": "python",
   "pygments_lexer": "ipython3",
   "version": "3.11.10"
  }
 },
 "nbformat": 4,
 "nbformat_minor": 2
}
